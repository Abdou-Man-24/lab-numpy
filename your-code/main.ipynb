{
 "cells": [
  {
   "cell_type": "markdown",
   "metadata": {},
   "source": [
    "# Intrduction to NumPy\n",
    "\n",
    "\n",
    "#### 1. Import NumPy under the name np."
   ]
  },
  {
   "cell_type": "code",
   "execution_count": 1,
   "metadata": {},
   "outputs": [],
   "source": [
    "# your code here\n",
    "import numpy as np"
   ]
  },
  {
   "cell_type": "markdown",
   "metadata": {},
   "source": [
    "#### 2. Print your NumPy version."
   ]
  },
  {
   "cell_type": "code",
   "execution_count": 2,
   "metadata": {},
   "outputs": [
    {
     "name": "stdout",
     "output_type": "stream",
     "text": [
      "1.18.5\n"
     ]
    }
   ],
   "source": [
    "# your code here\n",
    "print(np.__version__)"
   ]
  },
  {
   "cell_type": "markdown",
   "metadata": {},
   "source": [
    "#### 3. Generate a 2x3x5 3-dimensional array with random values. Assign the array to variable *a*.\n",
    "**Challenge**: there are at least three easy ways that use numpy to generate random arrays. How many ways can you find?"
   ]
  },
  {
   "cell_type": "code",
   "execution_count": 3,
   "metadata": {},
   "outputs": [
    {
     "data": {
      "text/plain": [
       "array([[[0.07343637, 0.56268589, 0.51691649, 0.35521104, 0.18235913],\n",
       "        [0.70758972, 0.13262162, 0.58805148, 0.97553839, 0.71827393],\n",
       "        [0.31970993, 0.27739594, 0.70047415, 0.0405169 , 0.96257159]],\n",
       "\n",
       "       [[0.24026021, 0.53946521, 0.21884634, 0.52300829, 0.65490534],\n",
       "        [0.58153222, 0.79596555, 0.2610773 , 0.90682316, 0.20441769],\n",
       "        [0.31469563, 0.66807351, 0.18634495, 0.51775159, 0.26604274]]])"
      ]
     },
     "execution_count": 3,
     "metadata": {},
     "output_type": "execute_result"
    }
   ],
   "source": [
    "# Method 1 \n",
    "np.random.random((2,3,5))"
   ]
  },
  {
   "cell_type": "code",
   "execution_count": 4,
   "metadata": {},
   "outputs": [
    {
     "data": {
      "text/plain": [
       "array([[[56,  2, 98, 94, 81],\n",
       "        [47, 34, 45, 45, 81],\n",
       "        [ 5, 12,  6, 90, 12]],\n",
       "\n",
       "       [[11, 57, 42, 34,  4],\n",
       "        [14, 24, 62, 87, 91],\n",
       "        [31, 14, 22, 16, 27]]])"
      ]
     },
     "execution_count": 4,
     "metadata": {},
     "output_type": "execute_result"
    }
   ],
   "source": [
    "# Method 2 \n",
    "np.random.randint(100, size=(2,3, 5))"
   ]
  },
  {
   "cell_type": "code",
   "execution_count": 5,
   "metadata": {},
   "outputs": [],
   "source": [
    "# Method 3 \n",
    "a = np.random.rand(2,3,5)"
   ]
  },
  {
   "cell_type": "markdown",
   "metadata": {},
   "source": [
    "#### 4. Print *a*.\n"
   ]
  },
  {
   "cell_type": "code",
   "execution_count": 6,
   "metadata": {},
   "outputs": [
    {
     "name": "stdout",
     "output_type": "stream",
     "text": [
      "[[[0.7741536  0.44399362 0.84576684 0.43095913 0.69682173]\n",
      "  [0.92551055 0.42631237 0.3923295  0.49281016 0.81553379]\n",
      "  [0.16834662 0.21875079 0.82661231 0.18850412 0.68868015]]\n",
      "\n",
      " [[0.00490741 0.73860311 0.49255172 0.27453183 0.26875526]\n",
      "  [0.6434726  0.36784229 0.09002591 0.41329767 0.08652527]\n",
      "  [0.41276268 0.56734747 0.47146212 0.68894783 0.95675796]]]\n"
     ]
    }
   ],
   "source": [
    "# your code here\n",
    "print(a)"
   ]
  },
  {
   "cell_type": "markdown",
   "metadata": {},
   "source": [
    "#### 5. Create a 5x2x3 3-dimensional array with all values equaling 1. Assign the array to variable *b*."
   ]
  },
  {
   "cell_type": "code",
   "execution_count": 7,
   "metadata": {},
   "outputs": [],
   "source": [
    "# your code here\n",
    "b = np.ones((5,2,3))"
   ]
  },
  {
   "cell_type": "markdown",
   "metadata": {},
   "source": [
    "#### 6. Print *b*.\n"
   ]
  },
  {
   "cell_type": "code",
   "execution_count": 8,
   "metadata": {},
   "outputs": [
    {
     "name": "stdout",
     "output_type": "stream",
     "text": [
      "[[[1. 1. 1.]\n",
      "  [1. 1. 1.]]\n",
      "\n",
      " [[1. 1. 1.]\n",
      "  [1. 1. 1.]]\n",
      "\n",
      " [[1. 1. 1.]\n",
      "  [1. 1. 1.]]\n",
      "\n",
      " [[1. 1. 1.]\n",
      "  [1. 1. 1.]]\n",
      "\n",
      " [[1. 1. 1.]\n",
      "  [1. 1. 1.]]]\n"
     ]
    }
   ],
   "source": [
    "# your code here\n",
    "print(b)"
   ]
  },
  {
   "cell_type": "markdown",
   "metadata": {},
   "source": [
    "#### 7. Do *a* and *b* have the same size? How do you prove that in Python code?"
   ]
  },
  {
   "cell_type": "code",
   "execution_count": 9,
   "metadata": {},
   "outputs": [
    {
     "data": {
      "text/plain": [
       "True"
      ]
     },
     "execution_count": 9,
     "metadata": {},
     "output_type": "execute_result"
    }
   ],
   "source": [
    "# your code here\n",
    "a.size==b.size"
   ]
  },
  {
   "cell_type": "markdown",
   "metadata": {},
   "source": [
    "#### 8. Are you able to add *a* and *b*? Why or why not?\n"
   ]
  },
  {
   "cell_type": "code",
   "execution_count": 10,
   "metadata": {},
   "outputs": [
    {
     "ename": "ValueError",
     "evalue": "operands could not be broadcast together with shapes (2,3,5) (5,2,3) ",
     "output_type": "error",
     "traceback": [
      "\u001b[1;31m---------------------------------------------------------------------------\u001b[0m",
      "\u001b[1;31mValueError\u001b[0m                                Traceback (most recent call last)",
      "\u001b[1;32m<ipython-input-10-2d025f3be6ac>\u001b[0m in \u001b[0;36m<module>\u001b[1;34m\u001b[0m\n\u001b[0;32m      1\u001b[0m \u001b[1;31m# your answer here\u001b[0m\u001b[1;33m\u001b[0m\u001b[1;33m\u001b[0m\u001b[1;33m\u001b[0m\u001b[0m\n\u001b[1;32m----> 2\u001b[1;33m \u001b[0ma_b\u001b[0m\u001b[1;33m=\u001b[0m \u001b[0ma\u001b[0m\u001b[1;33m+\u001b[0m\u001b[0mb\u001b[0m\u001b[1;33m\u001b[0m\u001b[1;33m\u001b[0m\u001b[0m\n\u001b[0m\u001b[0;32m      3\u001b[0m \u001b[1;31m# that is not possible because the shape is different\u001b[0m\u001b[1;33m\u001b[0m\u001b[1;33m\u001b[0m\u001b[1;33m\u001b[0m\u001b[0m\n",
      "\u001b[1;31mValueError\u001b[0m: operands could not be broadcast together with shapes (2,3,5) (5,2,3) "
     ]
    }
   ],
   "source": [
    "# your answer here\n",
    "a_b= a+b\n",
    "# that is not possible because the shape is different "
   ]
  },
  {
   "cell_type": "markdown",
   "metadata": {},
   "source": [
    "#### 9. Transpose *b* so that it has the same structure of *a* (i.e. become a 2x3x5 array). Assign the transposed array to variable *c*."
   ]
  },
  {
   "cell_type": "code",
   "execution_count": 11,
   "metadata": {},
   "outputs": [
    {
     "data": {
      "text/plain": [
       "array([[[1., 1., 1., 1., 1.],\n",
       "        [1., 1., 1., 1., 1.],\n",
       "        [1., 1., 1., 1., 1.]],\n",
       "\n",
       "       [[1., 1., 1., 1., 1.],\n",
       "        [1., 1., 1., 1., 1.],\n",
       "        [1., 1., 1., 1., 1.]]])"
      ]
     },
     "execution_count": 11,
     "metadata": {},
     "output_type": "execute_result"
    }
   ],
   "source": [
    "# your code here\n",
    "#Transposing b to get the Format 2*3*5 \n",
    "\n",
    "c= b.reshape(2,3,5)\n",
    "c"
   ]
  },
  {
   "cell_type": "markdown",
   "metadata": {},
   "source": [
    "#### 10. Try to add *a* and *c*. Now it should work. Assign the sum to variable *d*. But why does it work now?"
   ]
  },
  {
   "cell_type": "code",
   "execution_count": 12,
   "metadata": {},
   "outputs": [
    {
     "data": {
      "text/plain": [
       "array([[[1.7741536 , 1.44399362, 1.84576684, 1.43095913, 1.69682173],\n",
       "        [1.92551055, 1.42631237, 1.3923295 , 1.49281016, 1.81553379],\n",
       "        [1.16834662, 1.21875079, 1.82661231, 1.18850412, 1.68868015]],\n",
       "\n",
       "       [[1.00490741, 1.73860311, 1.49255172, 1.27453183, 1.26875526],\n",
       "        [1.6434726 , 1.36784229, 1.09002591, 1.41329767, 1.08652527],\n",
       "        [1.41276268, 1.56734747, 1.47146212, 1.68894783, 1.95675796]]])"
      ]
     },
     "execution_count": 12,
     "metadata": {},
     "output_type": "execute_result"
    }
   ],
   "source": [
    "# your code/answer here\n",
    "d= a+c\n",
    "d\n",
    "# It works now because the arrays have the same shape"
   ]
  },
  {
   "cell_type": "markdown",
   "metadata": {},
   "source": [
    "#### 11. Print *a* and *d*. Notice the difference and relation of the two array in terms of the values? Explain."
   ]
  },
  {
   "cell_type": "code",
   "execution_count": 13,
   "metadata": {},
   "outputs": [
    {
     "name": "stdout",
     "output_type": "stream",
     "text": [
      "[[[0.7741536  0.44399362 0.84576684 0.43095913 0.69682173]\n",
      "  [0.92551055 0.42631237 0.3923295  0.49281016 0.81553379]\n",
      "  [0.16834662 0.21875079 0.82661231 0.18850412 0.68868015]]\n",
      "\n",
      " [[0.00490741 0.73860311 0.49255172 0.27453183 0.26875526]\n",
      "  [0.6434726  0.36784229 0.09002591 0.41329767 0.08652527]\n",
      "  [0.41276268 0.56734747 0.47146212 0.68894783 0.95675796]]]\n",
      "[[[1.7741536  1.44399362 1.84576684 1.43095913 1.69682173]\n",
      "  [1.92551055 1.42631237 1.3923295  1.49281016 1.81553379]\n",
      "  [1.16834662 1.21875079 1.82661231 1.18850412 1.68868015]]\n",
      "\n",
      " [[1.00490741 1.73860311 1.49255172 1.27453183 1.26875526]\n",
      "  [1.6434726  1.36784229 1.09002591 1.41329767 1.08652527]\n",
      "  [1.41276268 1.56734747 1.47146212 1.68894783 1.95675796]]]\n",
      "[[0.77906101 1.18259672 1.33831857 0.70549096 0.965577  ]\n",
      " [1.56898315 0.79415466 0.48235541 0.90610783 0.90205906]\n",
      " [0.58110931 0.78609825 1.29807444 0.87745195 1.64543811]]\n",
      "[[2.77906101 3.18259672 3.33831857 2.70549096 2.965577  ]\n",
      " [3.56898315 2.79415466 2.48235541 2.90610783 2.90205906]\n",
      " [2.58110931 2.78609825 3.29807444 2.87745195 3.64543811]]\n"
     ]
    }
   ],
   "source": [
    "# your code/answer here\n",
    "print(a)\n",
    "\n",
    "print(d)\n",
    "\n",
    "len(a)==len(d)\n",
    "# Both arrays have the same size, same number of items stored\n",
    "# every value in d is exactly a+1 from the equivalent value in a\n",
    "print(sum(a))\n",
    "print(sum(d))"
   ]
  },
  {
   "cell_type": "markdown",
   "metadata": {},
   "source": [
    "#### 12. Multiply *a* and *c*. Assign the result to *e*."
   ]
  },
  {
   "cell_type": "code",
   "execution_count": 14,
   "metadata": {},
   "outputs": [
    {
     "data": {
      "text/plain": [
       "array([[[0.7741536 , 0.44399362, 0.84576684, 0.43095913, 0.69682173],\n",
       "        [0.92551055, 0.42631237, 0.3923295 , 0.49281016, 0.81553379],\n",
       "        [0.16834662, 0.21875079, 0.82661231, 0.18850412, 0.68868015]],\n",
       "\n",
       "       [[0.00490741, 0.73860311, 0.49255172, 0.27453183, 0.26875526],\n",
       "        [0.6434726 , 0.36784229, 0.09002591, 0.41329767, 0.08652527],\n",
       "        [0.41276268, 0.56734747, 0.47146212, 0.68894783, 0.95675796]]])"
      ]
     },
     "execution_count": 14,
     "metadata": {},
     "output_type": "execute_result"
    }
   ],
   "source": [
    "# your code here\n",
    "e= a*c\n",
    "e"
   ]
  },
  {
   "cell_type": "markdown",
   "metadata": {},
   "source": [
    "#### 13. Does *e* equal to *a*? Why or why not?\n"
   ]
  },
  {
   "cell_type": "code",
   "execution_count": 15,
   "metadata": {},
   "outputs": [
    {
     "name": "stdout",
     "output_type": "stream",
     "text": [
      "e equals array a because e is the multiplication of values a with 1\n"
     ]
    }
   ],
   "source": [
    "# your code/answer here\n",
    "a==e\n",
    "\n",
    "print('e equals array a because e is the multiplication of values a with 1')"
   ]
  },
  {
   "cell_type": "markdown",
   "metadata": {},
   "source": [
    "#### 14. Identify the max, min, and mean values in *d*. Assign those values to variables *d_max*, *d_min* and *d_mean*."
   ]
  },
  {
   "cell_type": "code",
   "execution_count": 29,
   "metadata": {},
   "outputs": [
    {
     "name": "stdout",
     "output_type": "stream",
     "text": [
      "the max value in array d is: 1.9567579602292282\n",
      "the min value in array d is: 1.0049074083001057\n",
      "the mean value in array d is: 1.4937625476065313\n"
     ]
    }
   ],
   "source": [
    "# your code here\n",
    "d_max = d.max()\n",
    "print('the max value in array d is: {}'.format(d_max))\n",
    "d_min = d.min()\n",
    "print('the min value in array d is: {}'.format(d_min))\n",
    "d_mean = d.mean()\n",
    "print('the mean value in array d is: {}'.format(d_mean))"
   ]
  },
  {
   "cell_type": "markdown",
   "metadata": {},
   "source": [
    "#### 15. Now we want to label the values in *d*. First create an empty array *f* with the same shape (i.e. 2x3x5) as *d* using `np.empty`.\n"
   ]
  },
  {
   "cell_type": "code",
   "execution_count": 17,
   "metadata": {},
   "outputs": [
    {
     "data": {
      "text/plain": [
       "array([[[0.7741536 , 0.44399362, 0.84576684, 0.43095913, 0.69682173],\n",
       "        [0.92551055, 0.42631237, 0.3923295 , 0.49281016, 0.81553379],\n",
       "        [0.16834662, 0.21875079, 0.82661231, 0.18850412, 0.68868015]],\n",
       "\n",
       "       [[0.00490741, 0.73860311, 0.49255172, 0.27453183, 0.26875526],\n",
       "        [0.6434726 , 0.36784229, 0.09002591, 0.41329767, 0.08652527],\n",
       "        [0.41276268, 0.56734747, 0.47146212, 0.68894783, 0.95675796]]])"
      ]
     },
     "execution_count": 17,
     "metadata": {},
     "output_type": "execute_result"
    }
   ],
   "source": [
    "# your code here\n",
    "f= np.empty([2,3,5])\n",
    "f"
   ]
  },
  {
   "cell_type": "markdown",
   "metadata": {},
   "source": [
    "#### 16. Populate the values in *f*. \n",
    "\n",
    "For each value in *d*, if it's larger than *d_min* but smaller than *d_mean*, assign 25 to the corresponding value in *f*. If a value in *d* is larger than *d_mean* but smaller than *d_max*, assign 75 to the corresponding value in *f*. If a value equals to *d_mean*, assign 50 to the corresponding value in *f*. Assign 0 to the corresponding value(s) in *f* for *d_min* in *d*. Assign 100 to the corresponding value(s) in *f* for *d_max* in *d*. In the end, f should have only the following values: 0, 25, 50, 75, and 100.\n",
    "\n",
    "**Note**: you don't have to use Numpy in this question."
   ]
  },
  {
   "cell_type": "code",
   "execution_count": 66,
   "metadata": {},
   "outputs": [
    {
     "data": {
      "text/plain": [
       "array([[[ 75.,  25.,  75.,  25.,  75.],\n",
       "        [ 75.,  25.,  25.,  25.,  75.],\n",
       "        [ 25.,  25.,  75.,  25.,  75.]],\n",
       "\n",
       "       [[  0.,  75.,  25.,  25.,  25.],\n",
       "        [ 75.,  25.,  25.,  25.,  25.],\n",
       "        [ 25.,  75.,  25.,  75., 100.]]])"
      ]
     },
     "execution_count": 66,
     "metadata": {},
     "output_type": "execute_result"
    }
   ],
   "source": [
    "# your code here\n",
    "f= np.where((d > d_min) & (d<d_mean), 25, d)\n",
    "f= np.where((d > d_mean) & (d<d_max), 75, f)\n",
    "f= np.where(d == d_mean , 50, f)\n",
    "f= np.where(d == d_min , 0, f)\n",
    "f= np.where(d == d_max , 100, f)\n",
    "\n",
    "\n"
   ]
  },
  {
   "cell_type": "markdown",
   "metadata": {},
   "source": [
    "#### 17. Print *d* and *f*. Do you have your expected *f*?\n",
    "For instance, if your *d* is:\n",
    "```python\n",
    "[[[1.85836099, 1.67064465, 1.62576044, 1.40243961, 1.88454931],\n",
    "[1.75354326, 1.69403643, 1.36729252, 1.61415071, 1.12104981],\n",
    "[1.72201435, 1.1862918 , 1.87078449, 1.7726778 , 1.88180042]],\n",
    "[[1.44747908, 1.31673383, 1.02000951, 1.52218947, 1.97066381],\n",
    "[1.79129243, 1.74983003, 1.96028037, 1.85166831, 1.65450881],\n",
    "[1.18068344, 1.9587381 , 1.00656599, 1.93402165, 1.73514584]]]\n",
    "```\n",
    "Your *f* should be:\n",
    "```python\n",
    "[[[ 75.,  75.,  75.,  25.,  75.],\n",
    "[ 75.,  75.,  25.,  25.,  25.],\n",
    "[ 75.,  25.,  75.,  75.,  75.]],\n",
    "[[ 25.,  25.,  25.,  25., 100.],\n",
    "[ 75.,  75.,  75.,  75.,  75.],\n",
    "[ 25.,  75.,   0.,  75.,  75.]]]\n",
    "```"
   ]
  },
  {
   "cell_type": "code",
   "execution_count": 67,
   "metadata": {},
   "outputs": [
    {
     "data": {
      "text/plain": [
       "array([[[ 75.,  25.,  75.,  25.,  75.],\n",
       "        [ 75.,  25.,  25.,  25.,  75.],\n",
       "        [ 25.,  25.,  75.,  25.,  75.]],\n",
       "\n",
       "       [[  0.,  75.,  25.,  25.,  25.],\n",
       "        [ 75.,  25.,  25.,  25.,  25.],\n",
       "        [ 25.,  75.,  25.,  75., 100.]]])"
      ]
     },
     "execution_count": 67,
     "metadata": {},
     "output_type": "execute_result"
    }
   ],
   "source": [
    "# your code here\n",
    "f"
   ]
  },
  {
   "cell_type": "markdown",
   "metadata": {},
   "source": [
    "#### 18. Bonus question: instead of using numbers (i.e. 0, 25, 50, 75, and 100), use string values  (\"A\", \"B\", \"C\", \"D\", and \"E\") to label the array elements. For the example above, the expected result is:\n",
    "\n",
    "```python\n",
    "[[[ 'D',  'D',  'D',  'B',  'D'],\n",
    "[ 'D',  'D',  'B',  'B',  'B'],\n",
    "[ 'D',  'B',  'D',  'D',  'D']],\n",
    "[[ 'B',  'B',  'B',  'B',  'E'],\n",
    "[ 'D',  'D',  'D',  'D',  'D'],\n",
    "[ 'B',  'D',   'A',  'D', 'D']]]\n",
    "```\n",
    "**Note**: you don't have to use Numpy in this question."
   ]
  },
  {
   "cell_type": "code",
   "execution_count": null,
   "metadata": {},
   "outputs": [],
   "source": [
    "# your code here"
   ]
  }
 ],
 "metadata": {
  "kernelspec": {
   "display_name": "Python 3",
   "language": "python",
   "name": "python3"
  },
  "language_info": {
   "codemirror_mode": {
    "name": "ipython",
    "version": 3
   },
   "file_extension": ".py",
   "mimetype": "text/x-python",
   "name": "python",
   "nbconvert_exporter": "python",
   "pygments_lexer": "ipython3",
   "version": "3.8.3"
  }
 },
 "nbformat": 4,
 "nbformat_minor": 2
}
